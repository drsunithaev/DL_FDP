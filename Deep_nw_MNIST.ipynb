{
  "nbformat": 4,
  "nbformat_minor": 0,
  "metadata": {
    "colab": {
      "provenance": [],
      "mount_file_id": "1TNYFpaBKZXOLGU7gB01otiLt0YnOeChr",
      "authorship_tag": "ABX9TyN55qvbXlx5JvRJ9FqT7jqO",
      "include_colab_link": true
    },
    "kernelspec": {
      "name": "python3",
      "display_name": "Python 3"
    },
    "language_info": {
      "name": "python"
    }
  },
  "cells": [
    {
      "cell_type": "markdown",
      "metadata": {
        "id": "view-in-github",
        "colab_type": "text"
      },
      "source": [
        "<a href=\"https://colab.research.google.com/github/drsunithaev/DL_FDP/blob/main/Deep_nw_MNIST.ipynb\" target=\"_parent\"><img src=\"https://colab.research.google.com/assets/colab-badge.svg\" alt=\"Open In Colab\"/></a>"
      ]
    },
    {
      "cell_type": "code",
      "execution_count": 1,
      "metadata": {
        "id": "6KG0NC6tJMh5"
      },
      "outputs": [],
      "source": [
        "import os"
      ]
    },
    {
      "cell_type": "code",
      "source": [
        "os.chdir('/content/drive/MyDrive/DL_FDP_Jan 2023')"
      ],
      "metadata": {
        "id": "5CLuYxDGJb9h"
      },
      "execution_count": 2,
      "outputs": []
    },
    {
      "cell_type": "code",
      "source": [
        "pwd()"
      ],
      "metadata": {
        "colab": {
          "base_uri": "https://localhost:8080/",
          "height": 36
        },
        "id": "oPLA78jXJd66",
        "outputId": "4852e6ef-a3b6-4531-ffe9-c31bdbf14d9f"
      },
      "execution_count": 3,
      "outputs": [
        {
          "output_type": "execute_result",
          "data": {
            "text/plain": [
              "'/content/drive/MyDrive/DL_FDP_Jan 2023'"
            ],
            "application/vnd.google.colaboratory.intrinsic+json": {
              "type": "string"
            }
          },
          "metadata": {},
          "execution_count": 3
        }
      ]
    },
    {
      "cell_type": "markdown",
      "source": [
        "# Set up a Deep Neural Network"
      ],
      "metadata": {
        "id": "xP1gC4WmKuB_"
      }
    },
    {
      "cell_type": "markdown",
      "source": [
        "![Deep Network.jpeg](data:image/jpeg;base64,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)"
      ],
      "metadata": {
        "id": "iGo30-9VGVAs"
      }
    },
    {
      "cell_type": "markdown",
      "source": [
        "## Read dataset"
      ],
      "metadata": {
        "id": "378gYMXwLC4Z"
      }
    },
    {
      "cell_type": "code",
      "source": [
        "import tensorflow as tf"
      ],
      "metadata": {
        "id": "QxRijRldJfI2"
      },
      "execution_count": 4,
      "outputs": []
    },
    {
      "cell_type": "code",
      "source": [
        "data = tf.keras.datasets.mnist"
      ],
      "metadata": {
        "id": "9uCsbw4iLJ3e"
      },
      "execution_count": 5,
      "outputs": []
    },
    {
      "cell_type": "code",
      "source": [
        "type(data)"
      ],
      "metadata": {
        "colab": {
          "base_uri": "https://localhost:8080/"
        },
        "id": "ICPoOLYzLQo0",
        "outputId": "6af6d34e-6380-4079-e513-1c28037d8079"
      },
      "execution_count": 6,
      "outputs": [
        {
          "output_type": "execute_result",
          "data": {
            "text/plain": [
              "module"
            ]
          },
          "metadata": {},
          "execution_count": 6
        }
      ]
    },
    {
      "cell_type": "code",
      "source": [
        "(X_train, y_train) , (X_test, y_test)= data.load_data()"
      ],
      "metadata": {
        "colab": {
          "base_uri": "https://localhost:8080/"
        },
        "id": "1aEcmg0SLUw5",
        "outputId": "a08dbc40-777c-4def-b5d9-134e8d6af4f6"
      },
      "execution_count": 7,
      "outputs": [
        {
          "output_type": "stream",
          "name": "stdout",
          "text": [
            "Downloading data from https://storage.googleapis.com/tensorflow/tf-keras-datasets/mnist.npz\n",
            "11490434/11490434 [==============================] - 0s 0us/step\n"
          ]
        }
      ]
    },
    {
      "cell_type": "code",
      "source": [
        "type(y_train)"
      ],
      "metadata": {
        "colab": {
          "base_uri": "https://localhost:8080/"
        },
        "id": "4RprzGxiLYO1",
        "outputId": "4518a146-cc3f-4e2f-eb0d-6c86501d917f"
      },
      "execution_count": 16,
      "outputs": [
        {
          "output_type": "execute_result",
          "data": {
            "text/plain": [
              "numpy.ndarray"
            ]
          },
          "metadata": {},
          "execution_count": 16
        }
      ]
    },
    {
      "cell_type": "code",
      "source": [
        "X_train.shape"
      ],
      "metadata": {
        "colab": {
          "base_uri": "https://localhost:8080/"
        },
        "id": "EyjFJIaFLZyD",
        "outputId": "78f939f1-c6bd-44f4-cb1e-7ba52ba17eeb"
      },
      "execution_count": 17,
      "outputs": [
        {
          "output_type": "execute_result",
          "data": {
            "text/plain": [
              "(60000, 28, 28)"
            ]
          },
          "metadata": {},
          "execution_count": 17
        }
      ]
    },
    {
      "cell_type": "code",
      "source": [
        "y_train.shape"
      ],
      "metadata": {
        "colab": {
          "base_uri": "https://localhost:8080/"
        },
        "id": "RgaL9eRrL3vZ",
        "outputId": "9150312d-b61c-4fa6-b275-8a3335d31d14"
      },
      "execution_count": 18,
      "outputs": [
        {
          "output_type": "execute_result",
          "data": {
            "text/plain": [
              "(60000,)"
            ]
          },
          "metadata": {},
          "execution_count": 18
        }
      ]
    },
    {
      "cell_type": "code",
      "source": [
        "X_test.shape"
      ],
      "metadata": {
        "colab": {
          "base_uri": "https://localhost:8080/"
        },
        "id": "L0YlL-ZCL8Cp",
        "outputId": "47ba9dee-0c9b-41f6-fad0-6e8874e53ea0"
      },
      "execution_count": 19,
      "outputs": [
        {
          "output_type": "execute_result",
          "data": {
            "text/plain": [
              "(10000, 28, 28)"
            ]
          },
          "metadata": {},
          "execution_count": 19
        }
      ]
    },
    {
      "cell_type": "code",
      "source": [
        "y_test.shape"
      ],
      "metadata": {
        "colab": {
          "base_uri": "https://localhost:8080/"
        },
        "id": "I8W2Xx5VL_5E",
        "outputId": "b53c0b04-b8a1-49b4-ce77-1ffd1615e25c"
      },
      "execution_count": 20,
      "outputs": [
        {
          "output_type": "execute_result",
          "data": {
            "text/plain": [
              "(10000,)"
            ]
          },
          "metadata": {},
          "execution_count": 20
        }
      ]
    },
    {
      "cell_type": "code",
      "source": [
        "y_train[0]"
      ],
      "metadata": {
        "colab": {
          "base_uri": "https://localhost:8080/"
        },
        "id": "xD4XhJjcMC9z",
        "outputId": "4b28fdcb-15f0-4f51-8e46-9afc122388bf"
      },
      "execution_count": 22,
      "outputs": [
        {
          "output_type": "execute_result",
          "data": {
            "text/plain": [
              "5"
            ]
          },
          "metadata": {},
          "execution_count": 22
        }
      ]
    },
    {
      "cell_type": "markdown",
      "source": [
        "## What is MNIST dataset"
      ],
      "metadata": {
        "id": "sOwZTcXjMgcj"
      }
    },
    {
      "cell_type": "markdown",
      "source": [
        "![mnist_num.png](data:image/png;base64,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)"
      ],
      "metadata": {
        "id": "9XAbAVyUMnP1"
      }
    },
    {
      "cell_type": "code",
      "source": [
        "!git init"
      ],
      "metadata": {
        "colab": {
          "base_uri": "https://localhost:8080/"
        },
        "id": "ngZNSyymMGbL",
        "outputId": "9746c076-3539-4ec1-e96b-3c4047b36101"
      },
      "execution_count": 8,
      "outputs": [
        {
          "output_type": "stream",
          "name": "stdout",
          "text": [
            "Reinitialized existing Git repository in /content/drive/MyDrive/DL_FDP_Jan 2023/.git/\n"
          ]
        }
      ]
    },
    {
      "cell_type": "code",
      "source": [
        "!git add ."
      ],
      "metadata": {
        "id": "iiC4JJWONanZ"
      },
      "execution_count": 9,
      "outputs": []
    },
    {
      "cell_type": "code",
      "source": [
        "!git commit"
      ],
      "metadata": {
        "colab": {
          "base_uri": "https://localhost:8080/"
        },
        "id": "ymIiU-slNeks",
        "outputId": "763512d7-3508-40cf-fedf-04b5f51f77a1"
      },
      "execution_count": 10,
      "outputs": [
        {
          "output_type": "stream",
          "name": "stdout",
          "text": [
            "\n",
            "*** Please tell me who you are.\n",
            "\n",
            "Run\n",
            "\n",
            "  git config --global user.email \"you@example.com\"\n",
            "  git config --global user.name \"Your Name\"\n",
            "\n",
            "to set your account's default identity.\n",
            "Omit --global to set the identity only in this repository.\n",
            "\n",
            "fatal: unable to auto-detect email address (got 'root@c0894a70dd8b.(none)')\n"
          ]
        }
      ]
    },
    {
      "cell_type": "code",
      "source": [
        "!git config --global user.email \"sunithaev@gmail.com\""
      ],
      "metadata": {
        "id": "AGvqIGvGNiSF"
      },
      "execution_count": 12,
      "outputs": []
    },
    {
      "cell_type": "code",
      "source": [
        "!git config --global user.name \"drsunithaev\""
      ],
      "metadata": {
        "id": "g9WkP7QsXRD2"
      },
      "execution_count": 13,
      "outputs": []
    },
    {
      "cell_type": "code",
      "source": [
        "!git commit \"First commit\""
      ],
      "metadata": {
        "colab": {
          "base_uri": "https://localhost:8080/",
          "height": 603
        },
        "id": "3pJ0c8OrXdRn",
        "outputId": "d83d29fe-2cf0-4096-a957-db38171dcd4a"
      },
      "execution_count": 14,
      "outputs": [
        {
          "output_type": "stream",
          "name": "stdout",
          "text": [
            "<ive/DL_FDP_Jan 2023/.git/COMMIT_EDITMSG\" 14L, 310C\u001b[2;1H▽\u001b[6n\u001b[2;1H  \u001b[1;1H\u001b[>c\u001b]10;?\u0007\u001b]11;?\u0007\u001b[2;1H\u001b[34m# Please enter the commit message for your changes. Lines starting\n",
            "# with '#' will be ignored, and an empty message aborts the commit.\n",
            "#\n",
            "# On branch \u001b[m\u001b[35mmaster\u001b[m\n",
            "\u001b[34m#\n",
            "# Initial commit\n",
            "#\n",
            "# \u001b[m\u001b[35mChanges to be committed:\u001b[m\n",
            "\u001b[34m#       \u001b[m\u001b[32mnew file\u001b[m\u001b[34m: \u001b[m\u001b[31m  Deep_nw_MNIST.ipynb\u001b[m\n",
            "\u001b[34m#\n",
            "# \u001b[m\u001b[35mChanges not staged for commit:\u001b[m\n",
            "\u001b[34m#       \u001b[m\u001b[32mmodified\u001b[m\u001b[34m: \u001b[m\u001b[31m  Deep_nw_MNIST.ipynb\u001b[m\n",
            "\u001b[34m#\u001b[m\n",
            "\u001b[1m\u001b[34m~                                                                               \u001b[16;1H~                                                                               \u001b[17;1H~                                                                               \u001b[18;1H~                                                                               \u001b[19;1H~                                                                               \u001b[20;1H~                                                                               \u001b[21;1H~                                                                               \u001b[22;1H~                                                                               \u001b[23;1H~                                                                               \u001b[m\u001b[24;63H1,0-1\u001b[9CAll\u001b[1;1H\u001b[?25h\u001b[?25l\u001b[24;1HType  :qa  and press <Enter> to exit Vim\u001b[24;41H\u001b[K\u0007\u001b[24;63H1,0-1\u001b[9CAll\u001b[1;1H\u001b[?25h\u0007\u001b[?25l\u001b[24;63H2,1  \u001b[2;1H\u001b[?25h\u001b[?25l\u001b[24;65H2\u001b[2;2H\u001b[?25h\u001b[?25l\u001b[24;65H3\u001b[2;3H\u001b[?25h\u001b[?25l\u001b[24;1H\u001b[1m-- INSERT --\u001b[m\u001b[24;13H\u001b[K\u001b[24;63H3,1\u001b[11CTop\u001b[3;23r\u001b[3;1H\u001b[2L\u001b[1;24r\u001b[24;63H\u001b[K\u001b[24;63H4,1\u001b[11CAll\u001b[4;1H\u001b[?25h"
          ]
        },
        {
          "output_type": "error",
          "ename": "KeyboardInterrupt",
          "evalue": "ignored",
          "traceback": [
            "\u001b[0;31m---------------------------------------------------------------------------\u001b[0m",
            "\u001b[0;31mKeyboardInterrupt\u001b[0m                         Traceback (most recent call last)",
            "\u001b[0;32m<ipython-input-14-a01a0a3ee57d>\u001b[0m in \u001b[0;36m<module>\u001b[0;34m\u001b[0m\n\u001b[0;32m----> 1\u001b[0;31m \u001b[0mget_ipython\u001b[0m\u001b[0;34m(\u001b[0m\u001b[0;34m)\u001b[0m\u001b[0;34m.\u001b[0m\u001b[0msystem\u001b[0m\u001b[0;34m(\u001b[0m\u001b[0;34m'git commit'\u001b[0m\u001b[0;34m)\u001b[0m\u001b[0;34m\u001b[0m\u001b[0;34m\u001b[0m\u001b[0m\n\u001b[0m",
            "\u001b[0;32m/usr/local/lib/python3.8/dist-packages/google/colab/_shell.py\u001b[0m in \u001b[0;36msystem\u001b[0;34m(self, *args, **kwargs)\u001b[0m\n\u001b[1;32m     93\u001b[0m       \u001b[0mkwargs\u001b[0m\u001b[0;34m.\u001b[0m\u001b[0mupdate\u001b[0m\u001b[0;34m(\u001b[0m\u001b[0;34m{\u001b[0m\u001b[0;34m'also_return_output'\u001b[0m\u001b[0;34m:\u001b[0m \u001b[0;32mTrue\u001b[0m\u001b[0;34m}\u001b[0m\u001b[0;34m)\u001b[0m\u001b[0;34m\u001b[0m\u001b[0;34m\u001b[0m\u001b[0m\n\u001b[1;32m     94\u001b[0m \u001b[0;34m\u001b[0m\u001b[0m\n\u001b[0;32m---> 95\u001b[0;31m     \u001b[0moutput\u001b[0m \u001b[0;34m=\u001b[0m \u001b[0m_system_commands\u001b[0m\u001b[0;34m.\u001b[0m\u001b[0m_system_compat\u001b[0m\u001b[0;34m(\u001b[0m\u001b[0mself\u001b[0m\u001b[0;34m,\u001b[0m \u001b[0;34m*\u001b[0m\u001b[0margs\u001b[0m\u001b[0;34m,\u001b[0m \u001b[0;34m**\u001b[0m\u001b[0mkwargs\u001b[0m\u001b[0;34m)\u001b[0m  \u001b[0;31m# pylint:disable=protected-access\u001b[0m\u001b[0;34m\u001b[0m\u001b[0;34m\u001b[0m\u001b[0m\n\u001b[0m\u001b[1;32m     96\u001b[0m \u001b[0;34m\u001b[0m\u001b[0m\n\u001b[1;32m     97\u001b[0m     \u001b[0;32mif\u001b[0m \u001b[0mpip_warn\u001b[0m\u001b[0;34m:\u001b[0m\u001b[0;34m\u001b[0m\u001b[0;34m\u001b[0m\u001b[0m\n",
            "\u001b[0;32m/usr/local/lib/python3.8/dist-packages/google/colab/_system_commands.py\u001b[0m in \u001b[0;36m_system_compat\u001b[0;34m(shell, cmd, also_return_output)\u001b[0m\n\u001b[1;32m    434\u001b[0m   \u001b[0;31m# is expected to call this function, thus adding one level of nesting to the\u001b[0m\u001b[0;34m\u001b[0m\u001b[0;34m\u001b[0m\u001b[0;34m\u001b[0m\u001b[0m\n\u001b[1;32m    435\u001b[0m   \u001b[0;31m# stack.\u001b[0m\u001b[0;34m\u001b[0m\u001b[0;34m\u001b[0m\u001b[0;34m\u001b[0m\u001b[0m\n\u001b[0;32m--> 436\u001b[0;31m   result = _run_command(\n\u001b[0m\u001b[1;32m    437\u001b[0m       shell.var_expand(cmd, depth=2), clear_streamed_output=False)\n\u001b[1;32m    438\u001b[0m   \u001b[0mshell\u001b[0m\u001b[0;34m.\u001b[0m\u001b[0muser_ns\u001b[0m\u001b[0;34m[\u001b[0m\u001b[0;34m'_exit_code'\u001b[0m\u001b[0;34m]\u001b[0m \u001b[0;34m=\u001b[0m \u001b[0mresult\u001b[0m\u001b[0;34m.\u001b[0m\u001b[0mreturncode\u001b[0m\u001b[0;34m\u001b[0m\u001b[0;34m\u001b[0m\u001b[0m\n",
            "\u001b[0;32m/usr/local/lib/python3.8/dist-packages/google/colab/_system_commands.py\u001b[0m in \u001b[0;36m_run_command\u001b[0;34m(cmd, clear_streamed_output)\u001b[0m\n\u001b[1;32m    193\u001b[0m       \u001b[0mos\u001b[0m\u001b[0;34m.\u001b[0m\u001b[0mclose\u001b[0m\u001b[0;34m(\u001b[0m\u001b[0mchild_pty\u001b[0m\u001b[0;34m)\u001b[0m\u001b[0;34m\u001b[0m\u001b[0;34m\u001b[0m\u001b[0m\n\u001b[1;32m    194\u001b[0m \u001b[0;34m\u001b[0m\u001b[0m\n\u001b[0;32m--> 195\u001b[0;31m       \u001b[0;32mreturn\u001b[0m \u001b[0m_monitor_process\u001b[0m\u001b[0;34m(\u001b[0m\u001b[0mparent_pty\u001b[0m\u001b[0;34m,\u001b[0m \u001b[0mepoll\u001b[0m\u001b[0;34m,\u001b[0m \u001b[0mp\u001b[0m\u001b[0;34m,\u001b[0m \u001b[0mcmd\u001b[0m\u001b[0;34m,\u001b[0m \u001b[0mupdate_stdin_widget\u001b[0m\u001b[0;34m)\u001b[0m\u001b[0;34m\u001b[0m\u001b[0;34m\u001b[0m\u001b[0m\n\u001b[0m\u001b[1;32m    196\u001b[0m   \u001b[0;32mfinally\u001b[0m\u001b[0;34m:\u001b[0m\u001b[0;34m\u001b[0m\u001b[0;34m\u001b[0m\u001b[0m\n\u001b[1;32m    197\u001b[0m     \u001b[0mepoll\u001b[0m\u001b[0;34m.\u001b[0m\u001b[0mclose\u001b[0m\u001b[0;34m(\u001b[0m\u001b[0;34m)\u001b[0m\u001b[0;34m\u001b[0m\u001b[0;34m\u001b[0m\u001b[0m\n",
            "\u001b[0;32m/usr/local/lib/python3.8/dist-packages/google/colab/_system_commands.py\u001b[0m in \u001b[0;36m_monitor_process\u001b[0;34m(parent_pty, epoll, p, cmd, update_stdin_widget)\u001b[0m\n\u001b[1;32m    223\u001b[0m   \u001b[0;32mwhile\u001b[0m \u001b[0;32mTrue\u001b[0m\u001b[0;34m:\u001b[0m\u001b[0;34m\u001b[0m\u001b[0;34m\u001b[0m\u001b[0m\n\u001b[1;32m    224\u001b[0m     \u001b[0;32mtry\u001b[0m\u001b[0;34m:\u001b[0m\u001b[0;34m\u001b[0m\u001b[0;34m\u001b[0m\u001b[0m\n\u001b[0;32m--> 225\u001b[0;31m       \u001b[0mresult\u001b[0m \u001b[0;34m=\u001b[0m \u001b[0m_poll_process\u001b[0m\u001b[0;34m(\u001b[0m\u001b[0mparent_pty\u001b[0m\u001b[0;34m,\u001b[0m \u001b[0mepoll\u001b[0m\u001b[0;34m,\u001b[0m \u001b[0mp\u001b[0m\u001b[0;34m,\u001b[0m \u001b[0mcmd\u001b[0m\u001b[0;34m,\u001b[0m \u001b[0mdecoder\u001b[0m\u001b[0;34m,\u001b[0m \u001b[0mstate\u001b[0m\u001b[0;34m)\u001b[0m\u001b[0;34m\u001b[0m\u001b[0;34m\u001b[0m\u001b[0m\n\u001b[0m\u001b[1;32m    226\u001b[0m       \u001b[0;32mif\u001b[0m \u001b[0mresult\u001b[0m \u001b[0;32mis\u001b[0m \u001b[0;32mnot\u001b[0m \u001b[0;32mNone\u001b[0m\u001b[0;34m:\u001b[0m\u001b[0;34m\u001b[0m\u001b[0;34m\u001b[0m\u001b[0m\n\u001b[1;32m    227\u001b[0m         \u001b[0;32mreturn\u001b[0m \u001b[0mresult\u001b[0m\u001b[0;34m\u001b[0m\u001b[0;34m\u001b[0m\u001b[0m\n",
            "\u001b[0;32m/usr/local/lib/python3.8/dist-packages/google/colab/_system_commands.py\u001b[0m in \u001b[0;36m_poll_process\u001b[0;34m(parent_pty, epoll, p, cmd, decoder, state)\u001b[0m\n\u001b[1;32m    270\u001b[0m   \u001b[0moutput_available\u001b[0m \u001b[0;34m=\u001b[0m \u001b[0;32mFalse\u001b[0m\u001b[0;34m\u001b[0m\u001b[0;34m\u001b[0m\u001b[0m\n\u001b[1;32m    271\u001b[0m \u001b[0;34m\u001b[0m\u001b[0m\n\u001b[0;32m--> 272\u001b[0;31m   \u001b[0mevents\u001b[0m \u001b[0;34m=\u001b[0m \u001b[0mepoll\u001b[0m\u001b[0;34m.\u001b[0m\u001b[0mpoll\u001b[0m\u001b[0;34m(\u001b[0m\u001b[0;34m)\u001b[0m\u001b[0;34m\u001b[0m\u001b[0;34m\u001b[0m\u001b[0m\n\u001b[0m\u001b[1;32m    273\u001b[0m   \u001b[0minput_events\u001b[0m \u001b[0;34m=\u001b[0m \u001b[0;34m[\u001b[0m\u001b[0;34m]\u001b[0m\u001b[0;34m\u001b[0m\u001b[0;34m\u001b[0m\u001b[0m\n\u001b[1;32m    274\u001b[0m   \u001b[0;32mfor\u001b[0m \u001b[0m_\u001b[0m\u001b[0;34m,\u001b[0m \u001b[0mevent\u001b[0m \u001b[0;32min\u001b[0m \u001b[0mevents\u001b[0m\u001b[0;34m:\u001b[0m\u001b[0;34m\u001b[0m\u001b[0;34m\u001b[0m\u001b[0m\n",
            "\u001b[0;31mKeyboardInterrupt\u001b[0m: "
          ]
        }
      ]
    },
    {
      "cell_type": "code",
      "source": [],
      "metadata": {
        "id": "ZJQNaeRWXhh1"
      },
      "execution_count": null,
      "outputs": []
    }
  ]
}